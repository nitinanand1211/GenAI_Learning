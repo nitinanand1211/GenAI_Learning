{
 "cells": [
  {
   "cell_type": "code",
   "execution_count": 11,
   "id": "5b31aa5e",
   "metadata": {},
   "outputs": [
    {
     "data": {
      "image/png": "[encoded data removed]",
      "text/plain": [
       "<IPython.core.display.Image object>"
      ]
     },
     "metadata": {},
     "output_type": "display_data"
    }
   ],
   "source": [
    "# Build a simple workflow or Graph using Langgraph\n",
    "# State  - Whenever u r building any workflow using Langgraph the first thing to defines is State\n",
    "# of the graph . State is an input data structure for all nodes and edges in the graph\n",
    "# State is the medium of communication within the graph\n",
    "# To access element in this state State['graph_info']\n",
    "from typing_extensions import TypedDict\n",
    "class State(TypedDict):\n",
    "    graph_info: str\n",
    "\n",
    "# Node\n",
    "# Nodes are in a  way python functions \n",
    "# The first argument in a node has to be state \n",
    "# Because the state is a datastructure as defined above , \n",
    "# each node can access the key graph_info and can change the value\n",
    "\n",
    "def activity_today(state: State):\n",
    "    print(\" Activity today node has been called\")\n",
    "    print(state['graph_info'])\n",
    "    return {\"graph_info\":state['graph_info'] + \" I am planning to do sth today\"}\n",
    "\n",
    "def play_soccer(state: State):\n",
    "    print(\" Soccer node has been called\")\n",
    "    return {\"graph_info\":state['graph_info'] + \" I will play soccer\"}\n",
    "\n",
    "def watch_movie(state: State):\n",
    "    print(\"Watch movie node has been called\")\n",
    "    return {\"graph_info\":state['graph_info'] + \" watch movie\"}\n",
    "\n",
    "import random\n",
    "from typing import Literal\n",
    "def random_activtiy_decide(state:State)-> Literal[\"play_soccer\",\"watch_movie\"]:\n",
    "    print(\"In random activity decider mode\")\n",
    "    graph_info = state['graph_info']\n",
    "\n",
    "    if random.random() > 0.5:\n",
    "        return \"play_soccer\"\n",
    "    else:\n",
    "        return \"watch_movie\"\n",
    "\n",
    "\n",
    "# Edges \n",
    "# Graph Construction \n",
    "# Now we will build the graph from the components above\n",
    "# For that StateGraph class will be the one that we have to use\n",
    "\n",
    "from langgraph.graph import StateGraph, START,END\n",
    "graph = StateGraph(State)\n",
    "\n",
    "# Adding the nodes\n",
    "graph.add_node(\"activity_today\",activity_today)\n",
    "graph.add_node(\"play_soccer\",play_soccer)\n",
    "graph.add_node(\"watch_movie\",watch_movie)\n",
    "\n",
    "# Edges connector\n",
    "graph.add_edge(START,\"activity_today\")\n",
    "graph.add_conditional_edges(\"activity_today\",random_activtiy_decide)\n",
    "graph.add_edge(\"play_soccer\",END)\n",
    "graph.add_edge(\"watch_movie\",END)\n",
    "\n",
    "graph_builder = graph.compile()\n",
    "\n",
    "from IPython.display import Image,display\n",
    "display(Image(graph_builder.get_graph().draw_mermaid_png()))\n",
    "\n",
    "\n",
    "\n",
    "# Stategraph\n"
   ]
  },
  {
   "cell_type": "code",
   "execution_count": 12,
   "id": "129c1f5c",
   "metadata": {},
   "outputs": [
    {
     "name": "stdout",
     "output_type": "stream",
     "text": [
      " Activity today node has been called\n",
      "Hey help me tell what should I do today?\n",
      "In random activity decider mode\n",
      " Soccer node has been called\n"
     ]
    },
    {
     "data": {
      "text/plain": [
       "{'graph_info': 'Hey help me tell what should I do today? I am planning to do sth today I will play soccer'}"
      ]
     },
     "execution_count": 12,
     "metadata": {},
     "output_type": "execute_result"
    }
   ],
   "source": [
    "graph_builder.invoke({\"graph_info\":\"Hey help me tell what should I do today?\"})"
   ]
  },
  {
   "cell_type": "code",
   "execution_count": null,
   "id": "75ef6050",
   "metadata": {},
   "outputs": [],
   "source": []
  }
 ],
 "metadata": {
  "kernelspec": {
   "display_name": "Python 3",
   "language": "python",
   "name": "python3"
  },
  "language_info": {
   "codemirror_mode": {
    "name": "ipython",
    "version": 3
   },
   "file_extension": ".py",
   "mimetype": "text/x-python",
   "name": "python",
   "nbconvert_exporter": "python",
   "pygments_lexer": "ipython3",
   "version": "3.13.0"
  }
 },
 "nbformat": 4,
 "nbformat_minor": 5
}
