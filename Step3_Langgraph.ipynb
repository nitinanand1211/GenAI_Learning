{
 "cells": [
  {
   "cell_type": "code",
   "execution_count": 1,
   "id": "8a8adbaa",
   "metadata": {},
   "outputs": [
    {
     "name": "stdout",
     "output_type": "stream",
     "text": [
      "A wrapper around Wikipedia. Useful for when you need to answer general questions about people, places, companies, facts, historical events, or other subjects. Input should be a search query.\n",
      "A wrapper around Arxiv.org Useful for when you need to answer questions about Physics, Mathematics, Computer Science, Quantitative Biology, Quantitative Finance, Statistics, Electrical Engineering, and Economics from scientific articles on arxiv.org. Input should be a search query.\n"
     ]
    },
    {
     "name": "stderr",
     "output_type": "stream",
     "text": [
      "/var/folders/9d/7gw2rnq56ls5m4r1vbglz5r00000gn/T/ipykernel_90852/1038369445.py:40: LangChainDeprecationWarning: The class `TavilySearchResults` was deprecated in LangChain 0.3.25 and will be removed in 1.0. An updated version of the class exists in the :class:`~langchain-tavily package and should be used instead. To use it run `pip install -U :class:`~langchain-tavily` and import as `from :class:`~langchain_tavily import TavilySearch``.\n",
      "  tavily = TavilySearchResults()\n"
     ]
    }
   ],
   "source": [
    "# How to connect with all teh different tools that Langchain Langgraph provides in Agent architectures\n",
    "# When there are multiple tools how LLM makes the choice on which tool to call\n",
    "# If there are needs to do multiple tool call - it will fail \n",
    "# Tools \n",
    "# - Wikipedia Search\n",
    "# - Google Search \n",
    "# - Research website ( Arxiv search)\n",
    "# - Web Search in using Tavily\n",
    "# - Add\n",
    "# - Multiply \n",
    "# Based on user question LLM will make the call\n",
    "\n",
    "# Created Wikipedia tool object \n",
    "from langchain_community.tools import WikipediaQueryRun\n",
    "from langchain_community.utilities import WikipediaAPIWrapper\n",
    "wikipedia = WikipediaQueryRun(api_wrapper=WikipediaAPIWrapper())\n",
    "print(wikipedia.description)\n",
    "\n",
    "\n",
    "# Created arxiv tool\n",
    "from langchain_community.tools import ArxivQueryRun\n",
    "from langchain_community.utilities import ArxivAPIWrapper\n",
    "arxiv_tool = ArxivQueryRun(api_wrapper = ArxivAPIWrapper())\n",
    "print(arxiv_tool.description)\n",
    "\n",
    "# tool for doing Web Searcg\n",
    "import os\n",
    "from dotenv import load_dotenv\n",
    "load_dotenv()\n",
    "os.environ[\"OPENAI_API_KEY\"] = os.getenv(\"OPENAI_API_KEY\")\n",
    "os.environ[\"GROQ_API_KEY\"]= os.getenv(\"GROQ_API_KEY\")\n",
    "os.environ[\"GOOGLE_API_KEY\"]= os.getenv(\"GOOGLE_API_KEY\")\n",
    "\n",
    "os.environ[\"LANGCHAIN_API_KEY\"]= os.getenv(\"LANGCHAIN_API_KEY\")\n",
    "os.environ[\"LANGCHAIN_PROJECT\"]= os.getenv(\"LANGCHAIN_PROJECT\")\n",
    "os.environ[\"LANGCHAIN_TRACING_V2\"]= os.getenv(\"LANGCHAIN_TRACING_V2\")\n",
    "os.environ[\"TAVILY_API_KEY\"]= os.getenv(\"TAVILY_API_KEY\")\n",
    "\n",
    "from langchain_community.tools.tavily_search import TavilySearchResults\n",
    "tavily = TavilySearchResults()\n",
    "\n",
    "\n"
   ]
  },
  {
   "cell_type": "code",
   "execution_count": 2,
   "id": "d9f2a548",
   "metadata": {},
   "outputs": [
    {
     "data": {
      "text/plain": [
       "\"Page: MS Dhoni\\nSummary: Mahendra Singh Dhoni ([məˈheːndrə ˈsɪŋɡʱ ˈdʱoːniː] ; born 7 July 1981) is an Indian professional cricketer who plays as a right-handed batter and a wicket-keeper. Widely regarded as one of the most prolific wicket-keeper batsmen and captains and one of the greatest ODI batsmen, he represented the Indian cricket team and was the captain of the side in limited overs formats from 2007 to 2017 and in test cricket from 2008 to 2014. Dhoni has captained the most international matches and is the most successful Indian captain. He has led India to victory in the 2007 ICC World Twenty20, the 2011 Cricket World Cup, and the 2013 ICC Champions Trophy, being the only captain to win three different limited overs ICC tournaments. He also led the teams that won the Asia Cup in 2010, 2016 and was a member of the title winning squad in 2018.\\nBorn in Ranchi, Dhoni made his first class debut for Bihar in 1999. He made his debut for the Indian cricket team on 23 December 2004 in an ODI against Bangladesh and played his first test a year later against Sri Lanka. In 2007, he became the captain of the ODI side before taking over in all formats by 2008. Dhoni retired from test cricket in 2014 but continued playing in limited overs cricket till 2019. He has scored 17,266 runs in international cricket including 10,000 plus runs at an average of more than 50 in ODIs.\\nIn the Indian Premier League (IPL), Dhoni plays for Chennai Super Kings (CSK), leading them to the final on ten occasions and winning it five times (2010, 2011, 2018, 2021 and 2023 ) jointly sharing this title with Rohit Sharma . He has also led CSK to two Champions League T20 titles in 2010 and 2014. Dhoni is among the few batsmen to have scored more than five thousand runs in the IPL, as well as being the first wicket-keeper to do so.\\nIn 2008, Dhoni was awarded India's highest sport honour Major Dhyan Chand Khel Ratna Award by Government of India. He received the fourth highest civilian award Padma Shri in 2009 and third highest civilian award Padma Bhushan in 2018. Dhoni holds an honorary rank of Lieutenant colonel in the Parachute Regiment of the Indian Territorial Army which was presented to him by the Indian Army in 2011. In June 2025, he was inducted into ICC Cricket Hall of Fame.\\n\\n\\n\\nPage: M.S. Dhoni: The Untold Story\\nSummary: M.S. Dhoni: The Untold Story is a 2016 Indian Hindi-language biographical sports drama film directed and co-written by Neeraj Pandey. It is based on the life of former Test, ODI and T20I captain of the Indian national cricket team, Mahendra Singh Dhoni. The film stars the late Sushant Singh Rajput as MS Dhoni, along with Disha Patani, Kiara Advani, and Anupam Kher. The film chronicles the life of Dhoni from a young age through a series of life events.\\nThe idea of the biopic was put forward by Dhoni's manager, Arun Pandey, after encountering an incident at an airport after the 2011 Cricket World Cup Final. Development began two years later, with the consent of Dhoni. Neeraj Pandey was later approached to helm the film while he was working on Baby. Pandey recruited a number of people for researching into Dhoni's background and his life events. Dhoni eventually became a consultant on the film.\\nThe film was released on 30 September 2016 by Fox Star Studios and received the widest release ever for a Bollywood film across 61 countries. In addition to being released in Hindi language, it was also dubbed in Tamil, Telugu, and Marathi languages, although the Marathi release was later cancelled due to opposition. Upon release, the film became a critical and commercial success. It is the fifth highest-grossing Bollywood film of 2016 and sixth highest grossing Indian film of 2016 worldwide ₹215.48 crore (US$25 million).\\n\\nPage: M.S. Dhoni: The Untold Story (soundtrack)\\nSummary: M.S. Dhoni: The Untold Story is the soundtrack album to the 2016 Hindi-language film of the same name directed by Neeraj Pandey. Based on the life of former Indian cricketer M\""
      ]
     },
     "execution_count": 2,
     "metadata": {},
     "output_type": "execute_result"
    }
   ],
   "source": [
    "wikipedia.invoke(\"Who is MS Dhoni\")"
   ]
  },
  {
   "cell_type": "code",
   "execution_count": 3,
   "id": "a9e38d3f",
   "metadata": {},
   "outputs": [
    {
     "data": {
      "text/plain": [
       "'Published: 2023-08-02\\nTitle: Attention Is All You Need\\nAuthors: Ashish Vaswani, Noam Shazeer, Niki Parmar, Jakob Uszkoreit, Llion Jones, Aidan N. Gomez, Lukasz Kaiser, Illia Polosukhin\\nSummary: The dominant sequence transduction models are based on complex recurrent or\\nconvolutional neural networks in an encoder-decoder configuration. The best\\nperforming models also connect the encoder and decoder through an attention\\nmechanism. We propose a new simple network architecture, the Transformer, based\\nsolely on attention mechanisms, dispensing with recurrence and convolutions\\nentirely. Experiments on two machine translation tasks show these models to be\\nsuperior in quality while being more parallelizable and requiring significantly\\nless time to train. Our model achieves 28.4 BLEU on the WMT 2014\\nEnglish-to-German translation task, improving over the existing best results,\\nincluding ensembles by over 2 BLEU. On the WMT 2014 English-to-French\\ntranslation task, our model establishes a new single-model state-of-the-art\\nBLEU score of 41.8 after training for 3.5 days on eight GPUs, a small fraction\\nof the training costs of the best models from the literature. We show that the\\nTransformer generalizes well to other tasks by applying it successfully to\\nEnglish constituency parsing both with large and limited training data.'"
      ]
     },
     "execution_count": 3,
     "metadata": {},
     "output_type": "execute_result"
    }
   ],
   "source": [
    "arxiv_tool.invoke(\"1706.03762\")"
   ]
  },
  {
   "cell_type": "code",
   "execution_count": 8,
   "id": "ce272b7e",
   "metadata": {},
   "outputs": [
    {
     "data": {
      "text/plain": [
       "\"Published: 2024-07-22\\nTitle: Attention Is All You Need But You Don't Need All Of It For Inference of Large Language Models\\nAuthors: Georgy Tyukin, Gbetondji J-S Dovonon, Jean Kaddour, Pasquale Minervini\\nSummary: The inference demand for LLMs has skyrocketed in recent months, and serving\\nmodels with low latencies remains challenging due to the quadratic input length\\ncomplexity of the attention layers. In this work, we investigate the effect of\\ndropping MLP and attention layers at inference time on the performance of\\nLlama-v2 models. We find that dropping dreeper attention layers only marginally\\ndecreases performance but leads to the best speedups alongside dropping entire\\nlayers. For example, removing 33\\\\% of attention layers in a 13B Llama2 model\\nresults in a 1.8\\\\% drop in average performance over the OpenLLM benchmark. We\\nalso observe that skipping layers except the latter layers reduces performances\\nfor more layers skipped, except for skipping the attention layers.\\n\\nPublished: 2021-07-16\\nTitle: All the attention you need: Global-local, spatial-channel attention for image retrieval\\nAuthors: Chull Hwan Song, Hye Joo Han, Yannis Avrithis\\nSummary: We address representation learning for large-scale instance-level image\\nretrieval. Apart from backbone, training pipelines and loss functions, popular\\napproaches have focused on different spatial pooling and attention mechanisms,\\nwhich are at the core of learning a powerful global image representation. There\\nare different forms of attention according to the interaction of elements of\\nthe feature tensor (local and global) and the dimensions where it is applied\\n(spatial and channel). Unfortunately, each study addresses only one or two\\nforms of attention and applies it to different problems like classification,\\ndetection or retrieval.\\n  We present global-local attention module (GLAM), which is attached at the end\\nof a backbone network and incorporates all four forms of attention: local and\\nglobal, spatial and channel. We obtain a new feature tensor and, by spatial\\npooling, we learn a powerful embedding for image retrieval. Focusing on global\\ndescriptors, we provide empirical evidence of the interaction of all forms of\\nattention and improve the state of the art on standard benchmarks.\\n\\nPublished: 2023-06-02\\nTitle: RITA: Group Attention is All You Need for Timeseries Analytics\\nAuthors: Jiaming Liang, Lei Cao, Samuel Madden, Zachary Ives, Guoliang Li\\nSummary: Timeseries analytics is of great importance in many real-world applications.\\nRecently, the Transformer model, popular in natural language processing, has\\nbeen leveraged to learn high quality feature embeddings from timeseries, core\\nto the performance of various timeseries analytics tasks. However, the\\nquadratic time and space complexities limit Transformers' scalability,\\nespecially for long timeseries. To address these issues, we develop a\\ntimeseries analytics tool, RITA, which uses a novel attention mechanism, named\\ngroup attention, to address this scalability issue. Group attention dynamically\\nclusters the objects based on their similarity into a small number of groups\\nand approximately computes the attention at the coarse group granularity. It\\nthus significantly reduces the time and space complexity, yet provides a\\ntheoretical guarantee on the quality of the computed attention. The dynamic\\nscheduler of RITA continuously adapts the number of groups and the batch size\\nin the training process, ensuring group attention always uses the fewest groups\\nneeded to meet the approximation quality requirement. Extensive experiments on\\nvarious timeseries datasets and analytics tasks demonstrate that RITA\\noutperforms the state-of-the-art in accuracy and is significantly faster --\\nwith speedups of up to 63X.\""
      ]
     },
     "execution_count": 8,
     "metadata": {},
     "output_type": "execute_result"
    }
   ],
   "source": [
    "arxiv_tool.invoke(\"Attention is all you need\")"
   ]
  },
  {
   "cell_type": "code",
   "execution_count": 9,
   "id": "d26da0b9",
   "metadata": {},
   "outputs": [
    {
     "data": {
      "text/plain": [
       "\"Published: 2015-09-01\\nTitle: A semiparametric scale-mixture regression model and predictive recursion maximum likelihood\\nAuthors: Ryan Martin, Zhen Han\\nSummary: To avoid specification of the error distribution in a regression model, we\\npropose a general nonparametric scale mixture model for the error distribution.\\nFor fitting such mixtures, the predictive recursion method is a simple and\\ncomputationally efficient alternative to existing methods. We define a\\npredictive recursion-based marginal likelihood function, and estimation of the\\nregression parameters proceeds by maximizing this function. A hybrid predictive\\nrecursion--EM algorithm is proposed for this purpose. The method's performance\\nis compared with that of existing methods in simulations and real data\\nanalyses.\\n\\nPublished: 2011-06-16\\nTitle: Semiparametric inference in mixture models with predictive recursion marginal likelihood\\nAuthors: Ryan Martin, Surya T. Tokdar\\nSummary: Predictive recursion is an accurate and computationally efficient algorithm\\nfor nonparametric estimation of mixing densities in mixture models. In\\nsemiparametric mixture models, however, the algorithm fails to account for any\\nuncertainty in the additional unknown structural parameter. As an alternative\\nto existing profile likelihood methods, we treat predictive recursion as a\\nfilter approximation to fitting a fully Bayes model, whereby an approximate\\nmarginal likelihood of the structural parameter emerges and can be used for\\ninference. We call this the predictive recursion marginal likelihood.\\nConvergence properties of predictive recursion under model mis-specification\\nalso lead to an attractive construction of this new procedure. We show\\npointwise convergence of a normalized version of this marginal likelihood\\nfunction. Simulations compare the performance of this new marginal likelihood\\napproach that of existing profile likelihood methods as well as Dirichlet\\nprocess mixtures in density estimation. Mixed-effects models and an empirical\\nBayes multiple testing application in time series analysis are also considered.\\n\\nPublished: 2021-10-06\\nTitle: Revisiting consistency of a recursive estimator of mixing distributions\\nAuthors: Vaidehi Dixit, Ryan Martin\\nSummary: Estimation of the mixing distribution under a general mixture model is a very\\ndifficult problem, especially when the mixing distribution is assumed to have a\\ndensity. Predictive recursion (PR) is a fast, recursive algorithm for\\nnonparametric estimation of a mixing distribution/density in general mixture\\nmodels. However, the existing PR consistency results make rather strong\\nassumptions, some of which fail for a class of mixture models relevant for\\nmonotone density estimation, namely, scale mixtures of uniform kernels. In this\\npaper, we develop new consistency results for PR under weaker conditions. Armed\\nwith this new theory, we prove that PR is consistent for the scale mixture of\\nuniforms problem, and we show that the corresponding PR mixture density\\nestimator has very good practical performance compared to several existing\\nmethods for monotone density estimation.\""
      ]
     },
     "execution_count": 9,
     "metadata": {},
     "output_type": "execute_result"
    }
   ],
   "source": [
    "arxiv_tool.invoke(\"Mixture of Recursions\")"
   ]
  },
  {
   "cell_type": "code",
   "execution_count": 4,
   "id": "5894fc64",
   "metadata": {},
   "outputs": [
    {
     "data": {
      "text/plain": [
       "[{'title': 'Agentic AI - Wikipedia',\n",
       "  'url': 'https://en.wikipedia.org/wiki/Agentic_AI',\n",
       "  'content': 'Agentic AI is a class of artificial intelligence that focuses on autonomous systems that can make decisions and perform tasks without human intervention. The independent systems automatically respond to conditions, to produce process results. The field is closely linked to agentic automation, also known as agent-based process management systems, when applied to process automation. Applications include software development, customer support, cybersecurity and business intelligence. [...] The core concept of agentic AI is the use of _AI agents_ to perform automated tasks but without human intervention.( While robotic process automation (RPA) and AI agents can be programmed to automate specific tasks or support rule-based decisions, the rules are usually fixed.( Agentic AI operates independently, making decisions through continuous learning and analysis of external data and complex data sets.( Functioning agents can require various AI techniques, such as natural language',\n",
       "  'score': 0.95772696},\n",
       " {'title': 'What Is Agentic AI? | IBM',\n",
       "  'url': 'https://www.ibm.com/think/topics/agentic-ai',\n",
       "  'content': 'Agentic AI is an artificial intelligence system that can accomplish a specific goal with limited supervision. It consists of AI agents—machine learning models that mimic human decision-making to solve problems in real time. In a multiagent system, each agent performs a specific subtask required to reach the goal and their efforts are coordinated through AI orchestration. [...] Unlike traditional AI models, which operate within predefined constraints and require human intervention, agentic AI exhibits autonomy, goal-driven behavior and adaptability. The term “agentic” refers to these models’ agency, or, their capacity to act independently and purposefully.',\n",
       "  'score': 0.94796705},\n",
       " {'title': 'What is Agentic AI? | UiPath',\n",
       "  'url': 'https://www.uipath.com/ai/agentic-ai',\n",
       "  'content': \"Agentic AI is a probabilistic technology with high adaptability to changing environments and events. It relies on patterns and likelihoods to make decisions and take actions, as opposed to deterministic systems—such as Robotic Process Automation (RPA)—that follow fixed rules and predefined outcomes. Agentic AI now makes it possible to automate many workflows and business processes that deterministic systems have not been capable of addressing on their own. [...] Agentic AI, in short, is enabling us to create a new, virtual workforce that can, for the first time in history, complete the work of human knowledge workers. This opens up entirely new possibilities in designing work processes, deciding on the split of work between agents and people, and defining the roles of people and machines in myriad processes across the organization. [...] In essence, while GenAI focuses on creating, agentic AI focuses on doing. Generative AI's output is new content, while agentic AI's output is a series of actions or decisions. The two can be used in tandem to create powerful solutions that combine creativity with action. For example, a GenAI model could be used to create marketing copy, while an agentic AI system could autonomously deploy that copy to the optimal channels based on real-time data and campaign objectives.\",\n",
       "  'score': 0.9441409},\n",
       " {'title': 'What is Agentic AI? | Salesforce US',\n",
       "  'url': 'https://www.salesforce.com/agentforce/what-is-agentic-ai/',\n",
       "  'content': 'Agentic AI is the technology that powers AI agents so they can act autonomously without human oversight. By serving as a comprehensive platform, agentic AI facilitates seamless interaction between AI agents and humans, fostering a collaborative environment where both can work together. This platform has a suite of tools and services to help AI agents learn, adapt, and collaborate so they can quickly handle complex and dynamic tasks. It’s the next frontier of AI known for its ability to operate [...] ## What is agentic AI software?\\n\\nAgentic AI software is a type of artificial intelligence (AI) that can operate independently, making decisions and performing tasks without human intervention. These systems are able to learn from their interactions and adapt to new situations, improving their performance over time. [...] Agentic AI operates through a complex network of autonomous software components known as \"agents\" that draw from massive amounts of data and learn from user behavior to improve over time. Each agent is designed with specific goals and abilities, working in harmony to tackle complex tasks. This innovative approach to agentic AI relies on a blend of advanced technologies such as machine learning, NLP, and knowledge representation that helps agents learn, communicate, and reason effectively.',\n",
       "  'score': 0.9407083},\n",
       " {'title': 'Agentic AI vs. Generative AI - IBM',\n",
       "  'url': 'https://www.ibm.com/think/topics/agentic-ai-vs-generative-ai',\n",
       "  'content': 'Agentic AI describes AI systems that are designed to autonomously make decisions and act, with the ability to pursue complex goals with limited supervision. It brings together the flexible characteristics of large language models (LLMs) with the accuracy of traditional programming. This type of AI acts autonomously to achieve a goal by using technologies like natural language processing (NLPs), machine learning, reinforcement learning and knowledge representation. It’s a proactive AI-powered [...] Agentic AI is the broader concept of solving issues with limited supervision, whereas an AI agent is a specific component within that system that is designed to handle tasks and processes with a degree of autonomy. This model is changing the way humans interact with AI. The agentic AI system is able to understand the goal or vision of the user and uses the information that is provided to solve a problem. [...] It’s important to differentiate between agentic AI and AI agents. Essentially, agentic AI is the framework; AI agents are the building blocks within the framework.',\n",
       "  'score': 0.92763275}]"
      ]
     },
     "execution_count": 4,
     "metadata": {},
     "output_type": "execute_result"
    }
   ],
   "source": [
    "tavily.invoke(\"WHat is Agentic AI ?\")"
   ]
  },
  {
   "cell_type": "code",
   "execution_count": 13,
   "id": "c8329747",
   "metadata": {},
   "outputs": [],
   "source": [
    "# Define Tools \n",
    "def my_add(a:int, b:int)-> int:\n",
    "    \"\"\"  Addition of a and b and not multiplication\n",
    "    Args:\n",
    "        a(int) : first int\n",
    "        b(int) : second int\n",
    "    Return:\n",
    "        int:\n",
    "    \"\"\"\n",
    "    return a+b\n",
    "\n",
    "def my_mult(a:int, b:int)-> int:\n",
    "    \"\"\" Multiplication of a and b and not addition. \n",
    "    Args:\n",
    "        a(int) : first int\n",
    "        b(int) : second int\n",
    "    Return:\n",
    "        int:\n",
    "    \"\"\"\n",
    "    return a*b"
   ]
  },
  {
   "cell_type": "code",
   "execution_count": 6,
   "id": "bc5ab337",
   "metadata": {},
   "outputs": [],
   "source": [
    "# Define our LLM\n",
    "from langchain_openai import ChatOpenAI\n",
    "llm_open = ChatOpenAI(model = \"gpt-4o-mini\")\n",
    "\n",
    "tools = [wikipedia,arxiv_tool,tavily,my_add,my_mult]\n",
    "llm_with_tools = llm_open.bind_tools(tools)"
   ]
  },
  {
   "cell_type": "code",
   "execution_count": 7,
   "id": "b79a5989",
   "metadata": {},
   "outputs": [
    {
     "data": {
      "image/png": "[encoded data removed]",
      "text/plain": [
       "<IPython.core.display.Image object>"
      ]
     },
     "metadata": {},
     "output_type": "display_data"
    }
   ],
   "source": [
    "# Create the bot\n",
    "from typing_extensions import TypedDict\n",
    "from typing import Annotated\n",
    "from langgraph.graph.message import add_messages\n",
    "\n",
    "class State(TypedDict):\n",
    "    messages:Annotated[list,add_messages]\n",
    "\n",
    "# Node definitions\n",
    "def my_own_bot_with_tools(state: State):\n",
    "    return {\"messages\":[llm_with_tools.invoke(state['messages'])]}\n",
    "\n",
    "# Build graph\n",
    "from langgraph.graph import StateGraph, START,END\n",
    "from langgraph.prebuilt import ToolNode\n",
    "from langgraph.prebuilt import tools_condition\n",
    "builder = StateGraph(State)\n",
    "\n",
    "# Add nodes\n",
    "builder.add_node(\"my_own_bot_with_tools\",my_own_bot_with_tools)\n",
    "builder.add_node(\"tools\",ToolNode(tools))\n",
    "\n",
    "#Add edges\n",
    "# Edges\n",
    "builder.add_edge(START,\"my_own_bot_with_tools\")\n",
    "builder.add_conditional_edges(\"my_own_bot_with_tools\",tools_condition)\n",
    "builder.add_edge(\"tools\",END)\n",
    "\n",
    "graph_builder = builder.compile()\n",
    "from IPython.display import Image,display\n",
    "display(Image(graph_builder.get_graph().draw_mermaid_png()))\n",
    "\n",
    "\n"
   ]
  },
  {
   "cell_type": "code",
   "execution_count": 8,
   "id": "80d25870",
   "metadata": {},
   "outputs": [
    {
     "name": "stdout",
     "output_type": "stream",
     "text": [
      "================================\u001b[1m Human Message \u001b[0m=================================\n",
      "\n",
      "What is Agentic AI?\n",
      "==================================\u001b[1m Ai Message \u001b[0m==================================\n",
      "Tool Calls:\n",
      "  wikipedia (call_bZHE8DXS93WW0og8kbw9LKtk)\n",
      " Call ID: call_bZHE8DXS93WW0og8kbw9LKtk\n",
      "  Args:\n",
      "    query: Agentic AI\n",
      "=================================\u001b[1m Tool Message \u001b[0m=================================\n",
      "Name: wikipedia\n",
      "\n",
      "Page: Agentic AI\n",
      "Summary: Agentic AI is a class of artificial intelligence that focuses on autonomous systems that can make decisions and perform tasks without human intervention. The independent systems automatically respond to conditions, to produce process results. The field is closely linked to agentic automation, also known as agent-based process management systems, when applied to process automation. Applications include software development, customer support, cybersecurity and business intelligence. \n",
      "\n",
      "\n",
      "\n",
      "Page: Intelligent agent\n",
      "Summary: In artificial intelligence, an intelligent agent is an entity that perceives its environment, takes actions autonomously to achieve goals, and may improve its performance through machine learning or by acquiring knowledge. AI textbooks define artificial intelligence as the \"study and design of intelligent agents,\" emphasizing that goal-directed behavior is central to intelligence.\n",
      "A specialized subset of intelligent agents, agentic AI (also known as an AI agent or simply agent), expands this concept by proactively pursuing goals, making decisions, and taking actions over extended periods.\n",
      "Intelligent agents can range from simple to highly complex. A basic thermostat or control system is considered an intelligent agent, as is a human being, or any other system that meets the same criteria—such as a firm, a state, or a biome.\n",
      "Intelligent agents operate based on an objective function, which encapsulates their goals. They are designed to create and execute plans that maximize the expected value of this function upon completion. For example, a reinforcement learning agent has a reward function, which allows programmers to shape its desired behavior. Similarly, an evolutionary algorithm's behavior is guided by a fitness function.\n",
      "Intelligent agents in artificial intelligence are closely related to agents in economics, and versions of the intelligent agent paradigm are studied in cognitive science, ethics, and the philosophy of practical reason, as well as in many interdisciplinary socio-cognitive modeling and computer social simulations.\n",
      "Intelligent agents are often described schematically as abstract functional systems similar to computer programs. To distinguish theoretical models from real-world implementations, abstract descriptions of intelligent agents are called abstract intelligent agents. Intelligent agents are also closely related to software agents—autonomous computer programs that carry out tasks on behalf of users. They are also referred to using a term borrowed from economics: a \"rational agent\".\n",
      "\n",
      "\n",
      "\n",
      "Page: Artificial intelligence\n",
      "Summary: Artificial intelligence (AI) is the capability of computational systems to perform tasks typically associated with human intelligence, such as learning, reasoning, problem-solving, perception, and decision-making. It is a field of research in computer science that develops and studies methods and software that enable machines to perceive their environment and use learning and intelligence to take actions that maximize their chances of achieving defined goals.\n",
      "High-profile applications of AI include advanced web search engines (e.g., Google Search); recommendation systems (used by YouTube, Amazon, and Netflix); virtual assistants (e.g., Google Assistant, Siri, and Alexa); autonomous vehicles (e.g., Waymo); generative and creative tools (e.g., language models and AI art); and superhuman play and analysis in strategy games (e.g., chess and Go). However, many AI applications are not perceived as AI: \"A lot of cutting edge AI has filtered into general applications, often without being called AI because once something becomes useful enough and common enough it's not labeled AI anymore.\"\n",
      "Various subfields of AI research are centered around particular goals and the use of particular tools. The traditional goals of AI research include learning, reasoning, knowledge representation, planning, natural language processing, perception, and support for robotics.\n"
     ]
    }
   ],
   "source": [
    "from pprint import pprint\n",
    "messages = graph_builder.invoke({\"messages\":\"What is Agentic AI?\"})\n",
    "for m in messages['messages']:\n",
    "    m.pretty_print()"
   ]
  },
  {
   "cell_type": "code",
   "execution_count": 9,
   "id": "df279658",
   "metadata": {},
   "outputs": [
    {
     "name": "stdout",
     "output_type": "stream",
     "text": [
      "================================\u001b[1m Human Message \u001b[0m=================================\n",
      "\n",
      "What is the recent news in US-India trade deal?\n",
      "==================================\u001b[1m Ai Message \u001b[0m==================================\n",
      "Tool Calls:\n",
      "  tavily_search_results_json (call_KI4Kak6nIuwsgoLvvcKCjF30)\n",
      " Call ID: call_KI4Kak6nIuwsgoLvvcKCjF30\n",
      "  Args:\n",
      "    query: US India trade deal news\n",
      "=================================\u001b[1m Tool Message \u001b[0m=================================\n",
      "Name: tavily_search_results_json\n",
      "\n",
      "[{\"title\": \"Reciprocal Tariff Update: State of Bilateral Negotiations | Insights\", \"url\": \"https://www.hklaw.com/en/insights/publications/2025/07/reciprocal-tariff-update-state-of-bilateral-negotiations\", \"content\": \"IndiaNegotiations Ongoing: According to _Reuters,_ prospects for a U.S.-India interim trade deal before the Aug. 1, 2025, deadline have dimmed significantly, with sources citing persistent disagreements over tariff reductions and market access.July 22, 2025\", \"score\": 0.7746691}, {\"title\": \"India-U.S. trade deal: Deadlock over agri continues, but Trump ...\", \"url\": \"https://www.thehindu.com/news/national/india-us-trade-deal-deadlock-over-agri-continues-but-trump-surprise-not-ruled-out/article69842403.ece\", \"content\": \"Both sources confirmed that, while agriculture and dairy remain hurdles from the Indian side, a key hurdle from the U.S. side is their reluctance to reduce import duties on automotive components to zero.\\n\\nPublished - July 22, 2025 06:25 pm IST\\n\\n### Related Topics\\n\\nIndia-United States\\n/\\nIndia\\n/\\ndiplomacy\\n/\\ninternational relations\\n/\\ntrade policy\\n/\\ninternational (foreign) trade\\n/\\ntrade agreements\\n\\n### Top News Today\\n\\nReturn to frontpage\\nGoogle Play\\nApple Store\\n\\n##### The Hindu\\n\\n##### Contact us [...] ## Officials anticipate a surprise from President Trump in U.S.-India trade negotiations, with agriculture and automotive components as key issues\\n\\nUpdated  - July 22, 2025 06:32 pm IST - New Delhi [...] India’s negotiation points are now aimed at a broader Bilateral Trade Agreement (BTA) by September or October this year, rather than a ‘mini deal’ before August 1. Yet, the government is prepared for a surprise deal announced by U.S. President Donald Trump. File\\n| Photo Credit: Reuters\", \"score\": 0.767638}, {\"title\": \"India expects 'preferential' tariffs in trade deal with U.S. - CNBC\", \"url\": \"https://www.cnbc.com/2025/07/25/india-expects-preferential-tariffs-in-trade-deal-with-us-says-indias-commerce-minister-piyush-goyal.html\", \"content\": \"Livestream\\n\\nMenu\\n\\nInvesting trends\\n\\nIndia expects 'preferential' tariffs in a trade deal with U.S., says India's commerce minister\\n==============================================================================================\\n\\nPublished Thu, Jul 24 2025 8:01 PM EDT Updated Fri, Jul 25 2025 1:35 AM EDT\\n\\nImage 8: thumbnail\\n\\nGanesh Rao@in/rao-ganesh@_GaneshRao\\n\\nWATCH LIVE [...] Published Time: 2025-07-25T00:01:45+0000\\n\\nIndia expects 'preferential' tariffs in trade deal with U.S.: India's Piyush Goyal\\n\\n===============\\n\\nSkip Navigation\\n\\nImage 1: CNBC logo\\n\\nImage 2: logo\\n\\nMarkets\\n\\n   Pre-Markets\\n   U.S. Markets\\n   Currencies\\n   Cryptocurrency\\n   Futures & Commodities\\n   Bonds\\n   Funds & ETFs\\n\\nBusiness [...] Indian Prime Minister Narendra Modi. \\\"I have excellent relations with my good friend, [U.S.] Commerce Secretary, Mr Howard Lutnick,\\\" Goyal said. \\\"The United States and India share a very special relationship, and I'm very confident we'll do a robust and good deal where both countries benefit and where businesses on both sides are happy.\\\" Lutnick is leading the U.S. trade negotiating team. The optimism was echoed by business leaders, who predicted that while a deal would be reached, India would\", \"score\": 0.7213709}, {\"title\": \"India-US trade deal: What's holding back the agreement and risks of ...\", \"url\": \"https://www.livemint.com/market/stock-market-news/indiaus-trade-deal-whats-holding-back-the-agreement-and-risks-of-further-delays-explained-11753342384560.html\", \"content\": \"As the US signed trade deals with major economies, with the latest being Japan and the Philippines after inking deals with Indonesia and Vietnam, which are key economies in the Asia region, the discussion with India is still ongoing. Despite multiple rounds of negotiations, an official announcement continues to be delayed. [...] India-US trade deal: The Indian stock market is navigating rough terrain, in contrast to Western markets, particularly the US, which is hitting record highs as progress on trade deals with major partners has eased earlier investor concerns about rising inflation and its potential spillover effects on the world's largest economy. [...] Earlier, the potential deal was expected to be announced before July 09, after the White House and Trump himself stated that an agreement with India would be finalized. However, the White House is reportedly demanding greater access for agriculture, dairy, and genetically modified (GM) products, which is delaying the signing of the deal, a demand New Delhi is reportedly denying in order to protect farmers.\", \"score\": 0.6914979}, {\"title\": \"Most Deals Finished, Will Send '200 Tariff Letters,' Says Trump\", \"url\": \"https://www.ndtvprofit.com/economy-finance/india-us-trade-deal-news-live-tariff-threat-latest-updates-donald-trump-pm-modi-liveblog\", \"content\": \"Washington's agreement with Tokyo sets tariffs on the nation's imports at 15%, including for autos, which are by far the biggest component of the trade deficit between the countries.\\n\\n## Trade Deal Live: India's Latest FTA\\n\\nIndia on Thursday had signed a free trade agreement with the United Kingdom, in a move that would enhance market access for various products between the nations. [...] The agreement will significantly reduce import duties and improve market access for goods and services on both sides. India’s average tariff on UK products will fall from 15% to 3%, easing entry for British exporters of soft drinks, cosmetics, cars and medical devices. Indian exports will also benefit from duty-free or preferential access across nearly all tariff lines.\\n\\n## US Trade Deal Live: Trump Considering Rebate For Americans [...] ## US Trade Deal Live: Tariffs To Range Between 15% To 50%\\n\\n## US Trade Deal Live: Trump Says Most Trade Deals Finished Right Now\\n\\n## Trade Deal LIVE: 50-50 Odds Of EU-US Trade Deal, Says Trump\\n\\n## India-US Trade Deal LIVE: Most Tariff Letters Will Be Going Out By Friday\\n\\nNDTV\\nNDTV\\nget_in_touch\\n\\n###### Get In Touch\\n\\nEditorial Feedback\\nSubscription Queries\\nSales\\nFor Any Complaints\\n\\n###### NDTV Profit\\n\\n###### NDTV Profit\\n\\n###### Stay Updated\\n\\n###### Follow Us\\n\\nscanner\\n\\n###### DOWNLOAD THE APP\", \"score\": 0.6844544}]\n"
     ]
    }
   ],
   "source": [
    "from pprint import pprint\n",
    "messages = graph_builder.invoke({\"messages\":\"What is the recent news in US-India trade deal?\"})\n",
    "for m in messages['messages']:\n",
    "    m.pretty_print()"
   ]
  },
  {
   "cell_type": "code",
   "execution_count": 10,
   "id": "87df4c4e",
   "metadata": {},
   "outputs": [
    {
     "name": "stdout",
     "output_type": "stream",
     "text": [
      "================================\u001b[1m Human Message \u001b[0m=================================\n",
      "\n",
      "What is teh attention is all you need paper all about?\n",
      "==================================\u001b[1m Ai Message \u001b[0m==================================\n",
      "Tool Calls:\n",
      "  wikipedia (call_LsxdWbfZHJztN7CKuDJNloqv)\n",
      " Call ID: call_LsxdWbfZHJztN7CKuDJNloqv\n",
      "  Args:\n",
      "    query: Attention is All You Need\n",
      "=================================\u001b[1m Tool Message \u001b[0m=================================\n",
      "Name: wikipedia\n",
      "\n",
      "Page: Attention Is All You Need\n",
      "Summary: \"Attention Is All You Need\" is a 2017 landmark research paper in machine learning authored by eight scientists working at Google. The paper introduced a new deep learning architecture known as the transformer, based on the attention mechanism proposed in 2014 by Bahdanau et al. It is considered a foundational paper in modern artificial intelligence, and a main contributor to the AI boom, as the transformer approach has become the main architecture of a wide variety of AI, such as large language models. At the time, the focus of the research was on improving Seq2seq techniques for machine translation, but the authors go further in the paper, foreseeing the technique's potential for other tasks like question answering and what is now known as multimodal generative AI.\n",
      "The paper's title is a reference to the song \"All You Need Is Love\" by the Beatles. The name \"Transformer\" was picked because Jakob Uszkoreit, one of the paper's authors, liked the sound of that word.\n",
      "An early design document was titled \"Transformers: Iterative Self-Attention and Processing for Various Tasks\", and included an illustration of six characters from the Transformers franchise. The team was named Team Transformer.\n",
      "Some early examples that the team tried their Transformer architecture on included English-to-German translation, generating Wikipedia articles on \"The Transformer\", and parsing. These convinced the team that the Transformer is a general purpose language model, and not just good for translation.\n",
      "As of 2025, the paper has been cited more than 173,000 times, placing it among top ten most-cited papers of the 21st century.\n",
      "\n",
      "Page: All You Need Is Kill\n",
      "Summary: All You Need Is Kill is a Japanese science fiction light novel by Hiroshi Sakurazaka with illustrations by Yoshitoshi Abe. The book was published in Japanese by Shueisha under their Super Dash Bunko imprint in December 2004, and was later released in English by Viz Media under their Haikasoru imprint. All You Need Is Kill follows a soldier named Keiji Kiriya, who, after dying in a battle with extraterrestrials, is caught in a time loop that makes him live the same day repeatedly, allowing Kiriya to improve his fighting skills.\n",
      "A manga adaptation, written by Ryosuke Takeuchi and illustrated by Takeshi Obata, was serialized in Shueisha's Weekly Young Jump magazine between January and May 2014 and was also published by Viz Media in its Weekly Shonen Jump magazine. In November 2014, the Viz translation was released in a collected edition that included the entire series. A separate graphic novel adaptation, written by Nick Mamatas and illustrated by Lee Ferguson, was released in North America in May 2014. A live-action film adaptation from director Doug Liman starring Tom Cruise and Emily Blunt, titled Edge of Tomorrow, was released in May 2014. The English-language film tie-in edition of the novel also uses this title. An anime film adaptation produced by Studio 4°C has been announced.\n",
      "The novel was Sakurazaka's breakthrough science fiction novel, earning wide praise from fellow novelists including Yasutaka Tsutsui and Chōhei Kanbayashi and was entered in contention for the Best Japanese Long Work in the 36th Seiun Awards in 2005.\n",
      "\n",
      "Page: Transformer (deep learning architecture)\n",
      "Summary: In deep learning, transformer is an architecture based on the multi-head attention mechanism, in which text is converted to numerical representations called tokens, and each token is converted into a vector via lookup from a word embedding table. At each layer, each token is then contextualized within the scope of the context window with other (unmasked) tokens via a parallel multi-head attention mechanism, allowing the signal for key tokens to be amplified and less important tokens to be diminished. \n",
      "Transformers have the advantage of having no recurrent units, therefore requiring less training time than earlier recurrent neural architectures (RNNs) such as long short-term \n"
     ]
    }
   ],
   "source": [
    "from pprint import pprint\n",
    "messages = graph_builder.invoke({\"messages\":\"What is teh attention is all you need paper all about?\"})\n",
    "for m in messages['messages']:\n",
    "    m.pretty_print()"
   ]
  },
  {
   "cell_type": "code",
   "execution_count": 11,
   "id": "1e55d39f",
   "metadata": {},
   "outputs": [
    {
     "name": "stdout",
     "output_type": "stream",
     "text": [
      "================================\u001b[1m Human Message \u001b[0m=================================\n",
      "\n",
      "Can you give me list of research paper on transformer architecture?\n",
      "==================================\u001b[1m Ai Message \u001b[0m==================================\n",
      "Tool Calls:\n",
      "  arxiv (call_TTtWSG2S6HcbLfvQUHetUINj)\n",
      " Call ID: call_TTtWSG2S6HcbLfvQUHetUINj\n",
      "  Args:\n",
      "    query: transformer architecture\n",
      "=================================\u001b[1m Tool Message \u001b[0m=================================\n",
      "Name: arxiv\n",
      "\n",
      "Published: 2023-08-22\n",
      "Title: TurboViT: Generating Fast Vision Transformers via Generative Architecture Search\n",
      "Authors: Alexander Wong, Saad Abbasi, Saeejith Nair\n",
      "Summary: Vision transformers have shown unprecedented levels of performance in\n",
      "tackling various visual perception tasks in recent years. However, the\n",
      "architectural and computational complexity of such network architectures have\n",
      "made them challenging to deploy in real-world applications with\n",
      "high-throughput, low-memory requirements. As such, there has been significant\n",
      "research recently on the design of efficient vision transformer architectures.\n",
      "In this study, we explore the generation of fast vision transformer\n",
      "architecture designs via generative architecture search (GAS) to achieve a\n",
      "strong balance between accuracy and architectural and computational efficiency.\n",
      "Through this generative architecture search process, we create TurboViT, a\n",
      "highly efficient hierarchical vision transformer architecture design that is\n",
      "generated around mask unit attention and Q-pooling design patterns. The\n",
      "resulting TurboViT architecture design achieves significantly lower\n",
      "architectural computational complexity (>2.47$\\times$ smaller than FasterViT-0\n",
      "while achieving same accuracy) and computational complexity (>3.4$\\times$ fewer\n",
      "FLOPs and 0.9% higher accuracy than MobileViT2-2.0) when compared to 10 other\n",
      "state-of-the-art efficient vision transformer network architecture designs\n",
      "within a similar range of accuracy on the ImageNet-1K dataset. Furthermore,\n",
      "TurboViT demonstrated strong inference latency and throughput in both\n",
      "low-latency and batch processing scenarios (>3.21$\\times$ lower latency and\n",
      ">3.18$\\times$ higher throughput compared to FasterViT-0 for low-latency\n",
      "scenario). These promising results demonstrate the efficacy of leveraging\n",
      "generative architecture search for generating efficient transformer\n",
      "architecture designs for high-throughput scenarios.\n",
      "\n",
      "Published: 2020-06-15\n",
      "Title: Differentiable Neural Architecture Transformation for Reproducible Architecture Improvement\n",
      "Authors: Do-Guk Kim, Heung-Chang Lee\n",
      "Summary: Recently, Neural Architecture Search (NAS) methods are introduced and show\n",
      "impressive performance on many benchmarks. Among those NAS studies, Neural\n",
      "Architecture Transformer (NAT) aims to improve the given neural architecture to\n",
      "have better performance while maintaining computational costs. However, NAT has\n",
      "limitations about a lack of reproducibility. In this paper, we propose\n",
      "differentiable neural architecture transformation that is reproducible and\n",
      "efficient. The proposed method shows stable performance on various\n",
      "architectures. Extensive reproducibility experiments on two datasets, i.e.,\n",
      "CIFAR-10 and Tiny Imagenet, present that the proposed method definitely\n",
      "outperforms NAT and be applicable to other models and datasets.\n",
      "\n",
      "Published: 2023-11-21\n",
      "Title: Interpretation of the Transformer and Improvement of the Extractor\n",
      "Authors: Zhe Chen\n",
      "Summary: It has been over six years since the Transformer architecture was put\n",
      "forward. Surprisingly, the vanilla Transformer architecture is still widely\n",
      "used today. One reason is that the lack of deep understanding and comprehensive\n",
      "interpretation of the Transformer architecture makes it more challenging to\n",
      "improve the Transformer architecture. In this paper, we first interpret the\n",
      "Transformer architecture comprehensively in plain words based on our\n",
      "understanding and experiences. The interpretations are further proved and\n",
      "verified. These interpretations also cover the Extractor, a family of drop-in\n",
      "replacements for the multi-head self-attention in the Transformer architecture.\n",
      "Then, we propose an improvement on a type of the Extractor that outperforms the\n",
      "self-attention, without introducing additional trainable parameters.\n",
      "Experimental results demonstrate that the improved Extractor performs even\n",
      "better, showing a way to improve the Transformer architecture.\n"
     ]
    }
   ],
   "source": [
    "from pprint import pprint\n",
    "messages = graph_builder.invoke({\"messages\":\"Can you give me list of research paper on transformer architecture?\"})\n",
    "for m in messages['messages']:\n",
    "    m.pretty_print()"
   ]
  },
  {
   "cell_type": "code",
   "execution_count": 12,
   "id": "dd58000c",
   "metadata": {},
   "outputs": [
    {
     "name": "stdout",
     "output_type": "stream",
     "text": [
      "================================\u001b[1m Human Message \u001b[0m=================================\n",
      "\n",
      "What is the 10 multiplied by 20?\n",
      "==================================\u001b[1m Ai Message \u001b[0m==================================\n",
      "Tool Calls:\n",
      "  my_mult (call_kMohLvm0Ar2xC7ieD9sAcmDL)\n",
      " Call ID: call_kMohLvm0Ar2xC7ieD9sAcmDL\n",
      "  Args:\n",
      "    a: 10\n",
      "    b: 20\n",
      "=================================\u001b[1m Tool Message \u001b[0m=================================\n",
      "Name: my_mult\n",
      "\n",
      "30\n"
     ]
    }
   ],
   "source": [
    "from pprint import pprint\n",
    "messages = graph_builder.invoke({\"messages\":\"What is the 10 multiplied by 20?\"})\n",
    "for m in messages['messages']:\n",
    "    m.pretty_print()"
   ]
  },
  {
   "cell_type": "code",
   "execution_count": null,
   "id": "ac926a58",
   "metadata": {},
   "outputs": [],
   "source": []
  }
 ],
 "metadata": {
  "kernelspec": {
   "display_name": "Python 3",
   "language": "python",
   "name": "python3"
  },
  "language_info": {
   "codemirror_mode": {
    "name": "ipython",
    "version": 3
   },
   "file_extension": ".py",
   "mimetype": "text/x-python",
   "name": "python",
   "nbconvert_exporter": "python",
   "pygments_lexer": "ipython3",
   "version": "3.13.0"
  }
 },
 "nbformat": 4,
 "nbformat_minor": 5
}
