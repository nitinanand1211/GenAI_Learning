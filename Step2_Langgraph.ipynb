{
 "cells": [
  {
   "cell_type": "code",
   "execution_count": 1,
   "id": "cba727db",
   "metadata": {},
   "outputs": [],
   "source": [
    "import os\n",
    "from dotenv import load_dotenv\n",
    "load_dotenv()\n",
    "os.environ[\"OPENAI_API_KEY\"] = os.getenv(\"OPENAI_API_KEY\")\n",
    "os.environ[\"GROQ_API_KEY\"]= os.getenv(\"GROQ_API_KEY\")\n",
    "os.environ[\"GOOGLE_API_KEY\"]= os.getenv(\"GOOGLE_API_KEY\")\n",
    "\n",
    "os.environ[\"LANGCHAIN_API_KEY\"]= os.getenv(\"LANGCHAIN_API_KEY\")\n",
    "os.environ[\"LANGCHAIN_PROJECT\"]= os.getenv(\"LANGCHAIN_PROJECT\")\n",
    "os.environ[\"LANGCHAIN_TRACING_V2\"]= os.getenv(\"LANGCHAIN_TRACING_V2\")"
   ]
  },
  {
   "cell_type": "code",
   "execution_count": 15,
   "id": "e8c8e8d2",
   "metadata": {},
   "outputs": [],
   "source": [
    "from langchain_openai import ChatOpenAI\n",
    "llm_open = ChatOpenAI(model = \"gpt-4o-mini\")\n",
    "#result = llm.invoke(\"What is the difference between RAG and Agentic RAG?\")\n",
    "#print(result.content)"
   ]
  },
  {
   "cell_type": "code",
   "execution_count": 35,
   "id": "598cdbf8",
   "metadata": {},
   "outputs": [],
   "source": [
    "from langchain_groq import ChatGroq\n",
    "llm_groq = ChatGroq(model = \"deepseek-r1-distill-llama-70b\")"
   ]
  },
  {
   "cell_type": "code",
   "execution_count": 22,
   "id": "a91ce186",
   "metadata": {},
   "outputs": [
    {
     "data": {
      "text/plain": [
       "AIMessage(content='10 multiplied by 20 is 200.', additional_kwargs={'refusal': None}, response_metadata={'token_usage': {'completion_tokens': 9, 'prompt_tokens': 16, 'total_tokens': 25, 'completion_tokens_details': {'accepted_prediction_tokens': 0, 'audio_tokens': 0, 'reasoning_tokens': 0, 'rejected_prediction_tokens': 0}, 'prompt_tokens_details': {'audio_tokens': 0, 'cached_tokens': 0}}, 'model_name': 'gpt-4o-mini-2024-07-18', 'system_fingerprint': 'fp_62a23a81ef', 'id': 'chatcmpl-BxPvzIzcDkLhPNfYK1U5LBgSuz2Sw', 'service_tier': 'default', 'finish_reason': 'stop', 'logprobs': None}, id='run--0231c4ab-cb7d-449b-836a-25ea7b43d20a-0', usage_metadata={'input_tokens': 16, 'output_tokens': 9, 'total_tokens': 25, 'input_token_details': {'audio': 0, 'cache_read': 0}, 'output_token_details': {'audio': 0, 'reasoning': 0}})"
      ]
     },
     "execution_count": 22,
     "metadata": {},
     "output_type": "execute_result"
    }
   ],
   "source": [
    "llm_open.invoke(\"What is 10 multiplied by 20?\")"
   ]
  },
  {
   "cell_type": "code",
   "execution_count": 4,
   "id": "f40fbb5c",
   "metadata": {},
   "outputs": [
    {
     "data": {
      "image/png": "[encoded data removed]",
      "text/plain": [
       "<IPython.core.display.Image object>"
      ]
     },
     "metadata": {},
     "output_type": "display_data"
    }
   ],
   "source": [
    "from typing_extensions import TypedDict\n",
    "from typing import Annotated\n",
    "from langgraph.graph.message import add_messages\n",
    "\n",
    "class State(TypedDict):\n",
    "    messages:Annotated[list,add_messages]\n",
    "\n",
    "def my_own_bot(state: State):\n",
    "    return {\"messages\":[llm_open.invoke(state['messages'])]}\n",
    "\n",
    "from langgraph.graph import StateGraph, START,END\n",
    "graph = StateGraph(State)\n",
    "\n",
    "# node add\n",
    "graph.add_node(\"my_own_bot\",my_own_bot)\n",
    "\n",
    "# Edges\n",
    "graph.add_edge(START,\"my_own_bot\")\n",
    "graph.add_edge(\"my_own_bot\",END)\n",
    "\n",
    "# Compile\n",
    "graph_builder = graph.compile()\n",
    "\n",
    "\n",
    "from IPython.display import Image,display\n",
    "display(Image(graph_builder.get_graph().draw_mermaid_png()))"
   ]
  },
  {
   "cell_type": "code",
   "execution_count": 5,
   "id": "9582cfc6",
   "metadata": {},
   "outputs": [
    {
     "data": {
      "text/plain": [
       "{'messages': [HumanMessage(content='Hey I am planning to teach Agentic AI', additional_kwargs={}, response_metadata={}, id='1cefda5e-b206-4979-843b-38dc6cf52dcd'),\n",
       "  AIMessage(content='That sounds like an exciting and relevant topic! Teaching Agentic AI involves discussing concepts related to autonomy, decision-making, and the capabilities of AI systems to act independently in specific contexts. Here are some suggestions on how to structure your course or teaching material:\\n\\n### 1. **Introduction to Agentic AI**\\n   - **Definition and Overview**\\n     - What is Agentic AI? Discuss autonomous systems that can make decisions and perform tasks without human intervention.\\n   - **Historical Context**\\n     - Overview of AI development leading to Agentic AI (from rule-based systems to machine learning and deep learning).\\n\\n### 2. **Core Concepts**\\n   - **Autonomy and Agency**\\n     - Define autonomy in AI and the implications of AI systems having agency.\\n   - **Decision-Making Processes**\\n     - Explore how AI makes decisions, including algorithms and models.\\n   - **Types of Agentic AI**\\n     - Discuss various examples: personal assistants, autonomous vehicles, drones, etc.\\n\\n### 3. **Technological Foundations**\\n   - **Machine Learning and Deep Learning**\\n     - Basics of how these technologies enable agentic behavior.\\n   - **Reinforcement Learning**\\n     - Discuss how reinforcement learning can be used to train agents to make decisions based on trial and error.\\n\\n### 4. **Ethical Considerations**\\n   - **Ethics of Autonomous Decision-Making**\\n     - Discuss potential risks and ethical dilemmas associated with autonomous agents.\\n   - **Accountability and Transparency**\\n     - Who is responsible when AI systems make mistakes or cause harm?\\n\\n### 5. **Societal Impacts**\\n   - **Positive Impacts**\\n     - Benefits of agentic AI in various sectors (healthcare, transportation, etc.).\\n   - **Negative Impacts**\\n     - Address potential job displacement, biases in decision-making, and security concerns.\\n\\n### 6. **Practical Applications and Case Studies**\\n   - **Real-world Examples**\\n     - Study cases of Agentic AI in action, analyzing successes and failures.\\n   - **Hands-on Projects**\\n     - Allow students to create or simulate simple agentic AI systems (using platforms like Python, TensorFlow, or OpenAI Gym).\\n\\n### 7. **Future Trends**\\n   - **Advancements in AI Research**\\n     - What are the emerging technologies that could enhance agentic capabilities?\\n   - **Regulation and Policy**\\n     - Discuss how governments and organizations are regulating the development and use of Agentic AI.\\n\\n### 8. **Interactive Discussions and Debates**\\n   - Encourage discussions about the future of Agentic AI, potential regulations, and the ethical considerations it raises.\\n\\n### Resources\\n- **Recommended Readings**\\n  - Suggest books, articles, and research papers on AI ethics, machine learning, and case studies on Agentic AI.\\n- **Online Courses and Tutorials**\\n  - Point to existing resources where students can learn more about programming and AI development.\\n\\n### Conclusion\\nWrap up by encouraging students to think critically about the role of AI in society and how they can contribute positively to the field.\\n\\nFeel free to adapt these ideas to fit your audience and teaching style! If you have specific questions or need resources on certain topics, let me know!', additional_kwargs={'refusal': None}, response_metadata={'token_usage': {'completion_tokens': 646, 'prompt_tokens': 16, 'total_tokens': 662, 'completion_tokens_details': {'accepted_prediction_tokens': 0, 'audio_tokens': 0, 'reasoning_tokens': 0, 'rejected_prediction_tokens': 0}, 'prompt_tokens_details': {'audio_tokens': 0, 'cached_tokens': 0}}, 'model_name': 'gpt-4o-mini-2024-07-18', 'system_fingerprint': 'fp_62a23a81ef', 'id': 'chatcmpl-BxPGLv04JRfXjqWkUtlD08GPvI09N', 'service_tier': 'default', 'finish_reason': 'stop', 'logprobs': None}, id='run--1b4a85ca-d97d-47d5-92f1-257bf549daaf-0', usage_metadata={'input_tokens': 16, 'output_tokens': 646, 'total_tokens': 662, 'input_token_details': {'audio': 0, 'cache_read': 0}, 'output_token_details': {'audio': 0, 'reasoning': 0}})]}"
      ]
     },
     "execution_count": 5,
     "metadata": {},
     "output_type": "execute_result"
    }
   ],
   "source": [
    "graph_builder.invoke({'messages':\"Hey I am planning to teach Agentic AI\"})"
   ]
  },
  {
   "cell_type": "code",
   "execution_count": 36,
   "id": "1977ff92",
   "metadata": {},
   "outputs": [
    {
     "data": {
      "image/png": "[encoded data removed]",
      "text/plain": [
       "<IPython.core.display.Image object>"
      ]
     },
     "metadata": {},
     "output_type": "display_data"
    }
   ],
   "source": [
    "# Define Tools \n",
    "def my_add(a:int, b:int)-> int:\n",
    "    \"\"\"  Addition of a and b and not multiplication\n",
    "    Args:\n",
    "        a(int) : first int\n",
    "        b(int) : second int\n",
    "    Return:\n",
    "        int:\n",
    "    \"\"\"\n",
    "    return a+b\n",
    "\n",
    "# Bind the tool with LLM - Lets LLM know which tool / function it can use for answering\n",
    "llm_with_tools = llm_groq.bind_tools([my_add])\n",
    "# We also have to create a list of tools \n",
    "tools = [my_add]\n",
    "\n",
    "\n",
    "\n",
    "class State(TypedDict):\n",
    "    messages:Annotated[list,add_messages]\n",
    "\n",
    "def llm_with_toolfunc(state:State):\n",
    "    return {\"messages\":[llm_with_tools.invoke(state[\"messages\"])]}\n",
    "\n",
    "\n",
    "from langgraph.prebuilt import ToolNode\n",
    "from langgraph.prebuilt import tools_condition\n",
    "builder = StateGraph(State)\n",
    "\n",
    "\n",
    "builder.add_node(\"llm_with_toolfunc\",llm_with_toolfunc)\n",
    "builder.add_node(\"tools\",ToolNode(tools))\n",
    "\n",
    "\n",
    "builder.add_edge(START,\"llm_with_toolfunc\")\n",
    "builder.add_conditional_edges(\"llm_with_toolfunc\",tools_condition) # Inside this tool condition LLM matches user input with the tool docstrings\n",
    "builder.add_edge(\"tools\",END)\n",
    "\n",
    "graph_builder = builder.compile()\n",
    "from IPython.display import Image,display\n",
    "display(Image(graph_builder.get_graph().draw_mermaid_png()))"
   ]
  },
  {
   "cell_type": "code",
   "execution_count": 39,
   "id": "e67c0a65",
   "metadata": {},
   "outputs": [
    {
     "name": "stdout",
     "output_type": "stream",
     "text": [
      "================================\u001b[1m Human Message \u001b[0m=================================\n",
      "\n",
      "What is 30 plus 50 plus 15 ?\n",
      "==================================\u001b[1m Ai Message \u001b[0m==================================\n",
      "\n",
      "To calculate \\(30 + 50 + 15\\), we'll use the `my_add` function twice:\n",
      "\n",
      "1. First, add 30 and 50:\n",
      "Tool Calls:\n",
      "  my_add (k9yx17ywq)\n",
      " Call ID: k9yx17ywq\n",
      "  Args:\n",
      "    a: 30\n",
      "    b: 50\n",
      "=================================\u001b[1m Tool Message \u001b[0m=================================\n",
      "Name: my_add\n",
      "\n",
      "80\n"
     ]
    }
   ],
   "source": [
    "from pprint import pprint\n",
    "messages = graph_builder.invoke({\"messages\":\"What is 30 plus 50 plus 15 ?\"})\n",
    "for m in messages['messages']:\n",
    "    m.pretty_print()"
   ]
  },
  {
   "cell_type": "code",
   "execution_count": 38,
   "id": "ee501c87",
   "metadata": {},
   "outputs": [
    {
     "name": "stdout",
     "output_type": "stream",
     "text": [
      "================================\u001b[1m Human Message \u001b[0m=================================\n",
      "\n",
      "What is Agentic AI in 30 words?\n",
      "==================================\u001b[1m Ai Message \u001b[0m==================================\n",
      "\n",
      "Agentic AI refers to autonomous systems that act on behalf of users, making decisions and learning to achieve specific goals in dynamic environments, optimizing processes and solving complex problems.\n"
     ]
    }
   ],
   "source": [
    "from pprint import pprint\n",
    "messages = graph_builder.invoke({\"messages\":\"What is Agentic AI in 30 words?\"})\n",
    "for m in messages['messages']:\n",
    "    m.pretty_print()"
   ]
  },
  {
   "cell_type": "code",
   "execution_count": 34,
   "id": "a70b1e10",
   "metadata": {},
   "outputs": [
    {
     "name": "stdout",
     "output_type": "stream",
     "text": [
      "================================\u001b[1m Human Message \u001b[0m=================================\n",
      "\n",
      "What is 10 multiplied by 20. \n",
      "==================================\u001b[1m Ai Message \u001b[0m==================================\n",
      "\n",
      "To assist with the multiplication, I need a function that supports multiplication. However, the only available function is `my_add`, which performs addition. Therefore, I cannot directly provide the product of 10 and 20 using the given tools.\n",
      "\n",
      "If you'd like, I can help you add numbers using `my_add` instead. Let me know how you'd like to proceed!\n"
     ]
    }
   ],
   "source": [
    "from pprint import pprint\n",
    "messages = graph_builder.invoke({\"messages\":\"What is 10 multiplied by 20. \"})\n",
    "for m in messages['messages']:\n",
    "    m.pretty_print()"
   ]
  },
  {
   "cell_type": "markdown",
   "id": "0bbb929e",
   "metadata": {},
   "source": []
  }
 ],
 "metadata": {
  "kernelspec": {
   "display_name": "Python 3",
   "language": "python",
   "name": "python3"
  },
  "language_info": {
   "codemirror_mode": {
    "name": "ipython",
    "version": 3
   },
   "file_extension": ".py",
   "mimetype": "text/x-python",
   "name": "python",
   "nbconvert_exporter": "python",
   "pygments_lexer": "ipython3",
   "version": "3.13.0"
  }
 },
 "nbformat": 4,
 "nbformat_minor": 5
}
